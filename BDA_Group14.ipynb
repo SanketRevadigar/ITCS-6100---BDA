{
 "cells": [
  {
   "cell_type": "markdown",
   "id": "587dedec-27c3-4c50-b86a-d6efa93b2352",
   "metadata": {},
   "source": [
    "# Analytics and Machine Learning"
   ]
  },
  {
   "cell_type": "code",
   "execution_count": 1,
   "id": "1123cfd1-1187-4eec-b30b-1fff9379ccd4",
   "metadata": {},
   "outputs": [],
   "source": [
    "# Importing the necessary libraries\n",
    "import pandas as pd\n",
    "import numpy as np\n",
    "import matplotlib.pyplot as plt\n",
    "import seaborn as sns\n",
    "import datetime as dt"
   ]
  },
  {
   "cell_type": "code",
   "execution_count": 2,
   "id": "aad701f1-20f9-4a9d-9bd9-abfcb04906e6",
   "metadata": {},
   "outputs": [
    {
     "name": "stderr",
     "output_type": "stream",
     "text": [
      "/var/folders/5k/h71s6jms46q2xf143lmfk1nm0000gn/T/ipykernel_59054/3019491577.py:2: DtypeWarning: Columns (6) have mixed types. Specify dtype option on import or set low_memory=False.\n",
      "  yellow_taxi = pd.read_csv('yellow_tripdata_2021-01.csv')\n"
     ]
    }
   ],
   "source": [
    "# Reading the csv files for yellow taxi data and for hire taxi data\n",
    "yellow_taxi = pd.read_csv('yellow_tripdata_2021-01.csv')\n",
    "for_hire_taxi = pd.read_csv('fhv_tripdata_2021-01.csv')"
   ]
  },
  {
   "cell_type": "code",
   "execution_count": 3,
   "id": "ad076ddf-47eb-4b16-9df2-ccb4987d05d0",
   "metadata": {},
   "outputs": [
    {
     "name": "stdout",
     "output_type": "stream",
     "text": [
      "<class 'pandas.core.frame.DataFrame'>\n",
      "RangeIndex: 1369765 entries, 0 to 1369764\n",
      "Data columns (total 18 columns):\n",
      " #   Column                 Non-Null Count    Dtype  \n",
      "---  ------                 --------------    -----  \n",
      " 0   VendorID               1271413 non-null  float64\n",
      " 1   tpep_pickup_datetime   1369765 non-null  object \n",
      " 2   tpep_dropoff_datetime  1369765 non-null  object \n",
      " 3   passenger_count        1271413 non-null  float64\n",
      " 4   trip_distance          1369765 non-null  float64\n",
      " 5   RatecodeID             1271413 non-null  float64\n",
      " 6   store_and_fwd_flag     1271413 non-null  object \n",
      " 7   PULocationID           1369765 non-null  int64  \n",
      " 8   DOLocationID           1369765 non-null  int64  \n",
      " 9   payment_type           1271413 non-null  float64\n",
      " 10  fare_amount            1369765 non-null  float64\n",
      " 11  extra                  1369765 non-null  float64\n",
      " 12  mta_tax                1369765 non-null  float64\n",
      " 13  tip_amount             1369765 non-null  float64\n",
      " 14  tolls_amount           1369765 non-null  float64\n",
      " 15  improvement_surcharge  1369765 non-null  float64\n",
      " 16  total_amount           1369765 non-null  float64\n",
      " 17  congestion_surcharge   1369765 non-null  float64\n",
      "dtypes: float64(13), int64(2), object(3)\n",
      "memory usage: 188.1+ MB\n",
      "<class 'pandas.core.frame.DataFrame'>\n",
      "RangeIndex: 1142699 entries, 0 to 1142698\n",
      "Data columns (total 7 columns):\n",
      " #   Column                  Non-Null Count    Dtype  \n",
      "---  ------                  --------------    -----  \n",
      " 0   dispatching_base_num    1142699 non-null  object \n",
      " 1   pickup_datetime         1142699 non-null  object \n",
      " 2   dropoff_datetime        1142699 non-null  object \n",
      " 3   PULocationID            195478 non-null   float64\n",
      " 4   DOLocationID            980487 non-null   float64\n",
      " 5   SR_Flag                 0 non-null        float64\n",
      " 6   Affiliated_base_number  1132084 non-null  object \n",
      "dtypes: float64(3), object(4)\n",
      "memory usage: 61.0+ MB\n"
     ]
    }
   ],
   "source": [
    "# Checking the general overview of the data\n",
    "yellow_taxi.info()\n",
    "for_hire_taxi.info()"
   ]
  },
  {
   "cell_type": "code",
   "execution_count": 4,
   "id": "82bad3e9-d5aa-41f6-aeb0-7977a0b6d988",
   "metadata": {},
   "outputs": [
    {
     "data": {
      "text/html": [
       "<div>\n",
       "<style scoped>\n",
       "    .dataframe tbody tr th:only-of-type {\n",
       "        vertical-align: middle;\n",
       "    }\n",
       "\n",
       "    .dataframe tbody tr th {\n",
       "        vertical-align: top;\n",
       "    }\n",
       "\n",
       "    .dataframe thead th {\n",
       "        text-align: right;\n",
       "    }\n",
       "</style>\n",
       "<table border=\"1\" class=\"dataframe\">\n",
       "  <thead>\n",
       "    <tr style=\"text-align: right;\">\n",
       "      <th></th>\n",
       "      <th>VendorID</th>\n",
       "      <th>passenger_count</th>\n",
       "      <th>trip_distance</th>\n",
       "      <th>RatecodeID</th>\n",
       "      <th>PULocationID</th>\n",
       "      <th>DOLocationID</th>\n",
       "      <th>payment_type</th>\n",
       "      <th>fare_amount</th>\n",
       "      <th>extra</th>\n",
       "      <th>mta_tax</th>\n",
       "      <th>tip_amount</th>\n",
       "      <th>tolls_amount</th>\n",
       "      <th>improvement_surcharge</th>\n",
       "      <th>total_amount</th>\n",
       "      <th>congestion_surcharge</th>\n",
       "    </tr>\n",
       "  </thead>\n",
       "  <tbody>\n",
       "    <tr>\n",
       "      <th>count</th>\n",
       "      <td>1.271413e+06</td>\n",
       "      <td>1.271413e+06</td>\n",
       "      <td>1.369765e+06</td>\n",
       "      <td>1.271413e+06</td>\n",
       "      <td>1.369765e+06</td>\n",
       "      <td>1.369765e+06</td>\n",
       "      <td>1.271413e+06</td>\n",
       "      <td>1.369765e+06</td>\n",
       "      <td>1.369765e+06</td>\n",
       "      <td>1.369765e+06</td>\n",
       "      <td>1.369765e+06</td>\n",
       "      <td>1.369765e+06</td>\n",
       "      <td>1.369765e+06</td>\n",
       "      <td>1.369765e+06</td>\n",
       "      <td>1.369765e+06</td>\n",
       "    </tr>\n",
       "    <tr>\n",
       "      <th>mean</th>\n",
       "      <td>1.676925e+00</td>\n",
       "      <td>1.411508e+00</td>\n",
       "      <td>4.631982e+00</td>\n",
       "      <td>1.035081e+00</td>\n",
       "      <td>1.652472e+02</td>\n",
       "      <td>1.614956e+02</td>\n",
       "      <td>1.280521e+00</td>\n",
       "      <td>1.209662e+01</td>\n",
       "      <td>9.705085e-01</td>\n",
       "      <td>4.930411e-01</td>\n",
       "      <td>1.918099e+00</td>\n",
       "      <td>2.477432e-01</td>\n",
       "      <td>2.969412e-01</td>\n",
       "      <td>1.747439e+01</td>\n",
       "      <td>2.116098e+00</td>\n",
       "    </tr>\n",
       "    <tr>\n",
       "      <th>std</th>\n",
       "      <td>4.676513e-01</td>\n",
       "      <td>1.059833e+00</td>\n",
       "      <td>3.939042e+02</td>\n",
       "      <td>5.994840e-01</td>\n",
       "      <td>6.783849e+01</td>\n",
       "      <td>7.210800e+01</td>\n",
       "      <td>4.916921e-01</td>\n",
       "      <td>1.291338e+01</td>\n",
       "      <td>1.231256e+00</td>\n",
       "      <td>7.632070e-02</td>\n",
       "      <td>2.597153e+00</td>\n",
       "      <td>1.672755e+00</td>\n",
       "      <td>4.222174e-02</td>\n",
       "      <td>1.469343e+01</td>\n",
       "      <td>9.287277e-01</td>\n",
       "    </tr>\n",
       "    <tr>\n",
       "      <th>min</th>\n",
       "      <td>1.000000e+00</td>\n",
       "      <td>0.000000e+00</td>\n",
       "      <td>0.000000e+00</td>\n",
       "      <td>1.000000e+00</td>\n",
       "      <td>1.000000e+00</td>\n",
       "      <td>1.000000e+00</td>\n",
       "      <td>1.000000e+00</td>\n",
       "      <td>-4.900000e+02</td>\n",
       "      <td>-5.500000e+00</td>\n",
       "      <td>-5.000000e-01</td>\n",
       "      <td>-1.000000e+02</td>\n",
       "      <td>-3.112000e+01</td>\n",
       "      <td>-3.000000e-01</td>\n",
       "      <td>-4.928000e+02</td>\n",
       "      <td>-2.500000e+00</td>\n",
       "    </tr>\n",
       "    <tr>\n",
       "      <th>25%</th>\n",
       "      <td>1.000000e+00</td>\n",
       "      <td>1.000000e+00</td>\n",
       "      <td>1.000000e+00</td>\n",
       "      <td>1.000000e+00</td>\n",
       "      <td>1.240000e+02</td>\n",
       "      <td>1.070000e+02</td>\n",
       "      <td>1.000000e+00</td>\n",
       "      <td>6.000000e+00</td>\n",
       "      <td>0.000000e+00</td>\n",
       "      <td>5.000000e-01</td>\n",
       "      <td>0.000000e+00</td>\n",
       "      <td>0.000000e+00</td>\n",
       "      <td>3.000000e-01</td>\n",
       "      <td>1.080000e+01</td>\n",
       "      <td>2.500000e+00</td>\n",
       "    </tr>\n",
       "    <tr>\n",
       "      <th>50%</th>\n",
       "      <td>2.000000e+00</td>\n",
       "      <td>1.000000e+00</td>\n",
       "      <td>1.700000e+00</td>\n",
       "      <td>1.000000e+00</td>\n",
       "      <td>1.620000e+02</td>\n",
       "      <td>1.620000e+02</td>\n",
       "      <td>1.000000e+00</td>\n",
       "      <td>8.500000e+00</td>\n",
       "      <td>0.000000e+00</td>\n",
       "      <td>5.000000e-01</td>\n",
       "      <td>1.860000e+00</td>\n",
       "      <td>0.000000e+00</td>\n",
       "      <td>3.000000e-01</td>\n",
       "      <td>1.380000e+01</td>\n",
       "      <td>2.500000e+00</td>\n",
       "    </tr>\n",
       "    <tr>\n",
       "      <th>75%</th>\n",
       "      <td>2.000000e+00</td>\n",
       "      <td>1.000000e+00</td>\n",
       "      <td>3.020000e+00</td>\n",
       "      <td>1.000000e+00</td>\n",
       "      <td>2.360000e+02</td>\n",
       "      <td>2.360000e+02</td>\n",
       "      <td>2.000000e+00</td>\n",
       "      <td>1.350000e+01</td>\n",
       "      <td>2.500000e+00</td>\n",
       "      <td>5.000000e-01</td>\n",
       "      <td>2.750000e+00</td>\n",
       "      <td>0.000000e+00</td>\n",
       "      <td>3.000000e-01</td>\n",
       "      <td>1.912000e+01</td>\n",
       "      <td>2.500000e+00</td>\n",
       "    </tr>\n",
       "    <tr>\n",
       "      <th>max</th>\n",
       "      <td>2.000000e+00</td>\n",
       "      <td>8.000000e+00</td>\n",
       "      <td>2.631633e+05</td>\n",
       "      <td>9.900000e+01</td>\n",
       "      <td>2.650000e+02</td>\n",
       "      <td>2.650000e+02</td>\n",
       "      <td>4.000000e+00</td>\n",
       "      <td>6.960500e+03</td>\n",
       "      <td>8.250000e+00</td>\n",
       "      <td>5.000000e-01</td>\n",
       "      <td>1.140440e+03</td>\n",
       "      <td>8.117500e+02</td>\n",
       "      <td>3.000000e-01</td>\n",
       "      <td>7.661280e+03</td>\n",
       "      <td>3.000000e+00</td>\n",
       "    </tr>\n",
       "  </tbody>\n",
       "</table>\n",
       "</div>"
      ],
      "text/plain": [
       "           VendorID  passenger_count  trip_distance    RatecodeID  \\\n",
       "count  1.271413e+06     1.271413e+06   1.369765e+06  1.271413e+06   \n",
       "mean   1.676925e+00     1.411508e+00   4.631982e+00  1.035081e+00   \n",
       "std    4.676513e-01     1.059833e+00   3.939042e+02  5.994840e-01   \n",
       "min    1.000000e+00     0.000000e+00   0.000000e+00  1.000000e+00   \n",
       "25%    1.000000e+00     1.000000e+00   1.000000e+00  1.000000e+00   \n",
       "50%    2.000000e+00     1.000000e+00   1.700000e+00  1.000000e+00   \n",
       "75%    2.000000e+00     1.000000e+00   3.020000e+00  1.000000e+00   \n",
       "max    2.000000e+00     8.000000e+00   2.631633e+05  9.900000e+01   \n",
       "\n",
       "       PULocationID  DOLocationID  payment_type   fare_amount         extra  \\\n",
       "count  1.369765e+06  1.369765e+06  1.271413e+06  1.369765e+06  1.369765e+06   \n",
       "mean   1.652472e+02  1.614956e+02  1.280521e+00  1.209662e+01  9.705085e-01   \n",
       "std    6.783849e+01  7.210800e+01  4.916921e-01  1.291338e+01  1.231256e+00   \n",
       "min    1.000000e+00  1.000000e+00  1.000000e+00 -4.900000e+02 -5.500000e+00   \n",
       "25%    1.240000e+02  1.070000e+02  1.000000e+00  6.000000e+00  0.000000e+00   \n",
       "50%    1.620000e+02  1.620000e+02  1.000000e+00  8.500000e+00  0.000000e+00   \n",
       "75%    2.360000e+02  2.360000e+02  2.000000e+00  1.350000e+01  2.500000e+00   \n",
       "max    2.650000e+02  2.650000e+02  4.000000e+00  6.960500e+03  8.250000e+00   \n",
       "\n",
       "            mta_tax    tip_amount  tolls_amount  improvement_surcharge  \\\n",
       "count  1.369765e+06  1.369765e+06  1.369765e+06           1.369765e+06   \n",
       "mean   4.930411e-01  1.918099e+00  2.477432e-01           2.969412e-01   \n",
       "std    7.632070e-02  2.597153e+00  1.672755e+00           4.222174e-02   \n",
       "min   -5.000000e-01 -1.000000e+02 -3.112000e+01          -3.000000e-01   \n",
       "25%    5.000000e-01  0.000000e+00  0.000000e+00           3.000000e-01   \n",
       "50%    5.000000e-01  1.860000e+00  0.000000e+00           3.000000e-01   \n",
       "75%    5.000000e-01  2.750000e+00  0.000000e+00           3.000000e-01   \n",
       "max    5.000000e-01  1.140440e+03  8.117500e+02           3.000000e-01   \n",
       "\n",
       "       total_amount  congestion_surcharge  \n",
       "count  1.369765e+06          1.369765e+06  \n",
       "mean   1.747439e+01          2.116098e+00  \n",
       "std    1.469343e+01          9.287277e-01  \n",
       "min   -4.928000e+02         -2.500000e+00  \n",
       "25%    1.080000e+01          2.500000e+00  \n",
       "50%    1.380000e+01          2.500000e+00  \n",
       "75%    1.912000e+01          2.500000e+00  \n",
       "max    7.661280e+03          3.000000e+00  "
      ]
     },
     "execution_count": 4,
     "metadata": {},
     "output_type": "execute_result"
    }
   ],
   "source": [
    "# Checking the statistical attributes of the data\n",
    "yellow_taxi.describe()"
   ]
  },
  {
   "cell_type": "code",
   "execution_count": 5,
   "id": "0cc342e4-c0f9-41c9-a2fb-f66bcc3a04d4",
   "metadata": {},
   "outputs": [
    {
     "data": {
      "text/html": [
       "<div>\n",
       "<style scoped>\n",
       "    .dataframe tbody tr th:only-of-type {\n",
       "        vertical-align: middle;\n",
       "    }\n",
       "\n",
       "    .dataframe tbody tr th {\n",
       "        vertical-align: top;\n",
       "    }\n",
       "\n",
       "    .dataframe thead th {\n",
       "        text-align: right;\n",
       "    }\n",
       "</style>\n",
       "<table border=\"1\" class=\"dataframe\">\n",
       "  <thead>\n",
       "    <tr style=\"text-align: right;\">\n",
       "      <th></th>\n",
       "      <th>PULocationID</th>\n",
       "      <th>DOLocationID</th>\n",
       "      <th>SR_Flag</th>\n",
       "    </tr>\n",
       "  </thead>\n",
       "  <tbody>\n",
       "    <tr>\n",
       "      <th>count</th>\n",
       "      <td>195478.000000</td>\n",
       "      <td>980487.000000</td>\n",
       "      <td>0.0</td>\n",
       "    </tr>\n",
       "    <tr>\n",
       "      <th>mean</th>\n",
       "      <td>139.759287</td>\n",
       "      <td>135.985144</td>\n",
       "      <td>NaN</td>\n",
       "    </tr>\n",
       "    <tr>\n",
       "      <th>std</th>\n",
       "      <td>74.944756</td>\n",
       "      <td>80.537696</td>\n",
       "      <td>NaN</td>\n",
       "    </tr>\n",
       "    <tr>\n",
       "      <th>min</th>\n",
       "      <td>1.000000</td>\n",
       "      <td>1.000000</td>\n",
       "      <td>NaN</td>\n",
       "    </tr>\n",
       "    <tr>\n",
       "      <th>25%</th>\n",
       "      <td>75.000000</td>\n",
       "      <td>67.000000</td>\n",
       "      <td>NaN</td>\n",
       "    </tr>\n",
       "    <tr>\n",
       "      <th>50%</th>\n",
       "      <td>143.000000</td>\n",
       "      <td>132.000000</td>\n",
       "      <td>NaN</td>\n",
       "    </tr>\n",
       "    <tr>\n",
       "      <th>75%</th>\n",
       "      <td>206.000000</td>\n",
       "      <td>214.000000</td>\n",
       "      <td>NaN</td>\n",
       "    </tr>\n",
       "    <tr>\n",
       "      <th>max</th>\n",
       "      <td>265.000000</td>\n",
       "      <td>265.000000</td>\n",
       "      <td>NaN</td>\n",
       "    </tr>\n",
       "  </tbody>\n",
       "</table>\n",
       "</div>"
      ],
      "text/plain": [
       "        PULocationID   DOLocationID  SR_Flag\n",
       "count  195478.000000  980487.000000      0.0\n",
       "mean      139.759287     135.985144      NaN\n",
       "std        74.944756      80.537696      NaN\n",
       "min         1.000000       1.000000      NaN\n",
       "25%        75.000000      67.000000      NaN\n",
       "50%       143.000000     132.000000      NaN\n",
       "75%       206.000000     214.000000      NaN\n",
       "max       265.000000     265.000000      NaN"
      ]
     },
     "execution_count": 5,
     "metadata": {},
     "output_type": "execute_result"
    }
   ],
   "source": [
    "for_hire_taxi.describe()"
   ]
  },
  {
   "cell_type": "code",
   "execution_count": 6,
   "id": "bdf0696e-9794-4dbf-93d5-9ece9f18fa39",
   "metadata": {},
   "outputs": [
    {
     "data": {
      "text/plain": [
       "<AxesSubplot:>"
      ]
     },
     "execution_count": 6,
     "metadata": {},
     "output_type": "execute_result"
    },
    {
     "data": {
      "image/png": "[encoded data removed]",
      "text/plain": [
       "<Figure size 432x288 with 1 Axes>"
      ]
     },
     "metadata": {
      "needs_background": "light"
     },
     "output_type": "display_data"
    }
   ],
   "source": [
    "# Checking for the completeness of the data\n",
    "sns.heatmap(yellow_taxi.isnull(),yticklabels=False,cbar=False,cmap='viridis')"
   ]
  },
  {
   "cell_type": "code",
   "execution_count": 7,
   "id": "8930e044-e935-4f04-95c5-33bbd0d2fb17",
   "metadata": {},
   "outputs": [
    {
     "data": {
      "text/plain": [
       "<AxesSubplot:>"
      ]
     },
     "execution_count": 7,
     "metadata": {},
     "output_type": "execute_result"
    },
    {
     "data": {
      "image/png": "[encoded data removed]",
      "text/plain": [
       "<Figure size 432x288 with 1 Axes>"
      ]
     },
     "metadata": {
      "needs_background": "light"
     },
     "output_type": "display_data"
    }
   ],
   "source": [
    "sns.heatmap(for_hire_taxi.isnull(),yticklabels=False,cbar=False,cmap='viridis')"
   ]
  },
  {
   "cell_type": "markdown",
   "id": "190847e9-942a-4fa9-b084-fde993ecf9c5",
   "metadata": {},
   "source": [
    "**We see that there are missing values in both the data sets. The for hire taxi data has a large number of missing values. Before imputing the missing values, we check for the percentage of missing values in both the datasets.**"
   ]
  },
  {
   "cell_type": "code",
   "execution_count": 8,
   "id": "96616620-76ae-4b28-9974-6fa233193e42",
   "metadata": {},
   "outputs": [
    {
     "data": {
      "text/plain": [
       "VendorID                 7.18021\n",
       "tpep_pickup_datetime     0.00000\n",
       "tpep_dropoff_datetime    0.00000\n",
       "passenger_count          7.18021\n",
       "trip_distance            0.00000\n",
       "RatecodeID               7.18021\n",
       "store_and_fwd_flag       7.18021\n",
       "PULocationID             0.00000\n",
       "DOLocationID             0.00000\n",
       "payment_type             7.18021\n",
       "fare_amount              0.00000\n",
       "extra                    0.00000\n",
       "mta_tax                  0.00000\n",
       "tip_amount               0.00000\n",
       "tolls_amount             0.00000\n",
       "improvement_surcharge    0.00000\n",
       "total_amount             0.00000\n",
       "congestion_surcharge     0.00000\n",
       "dtype: float64"
      ]
     },
     "execution_count": 8,
     "metadata": {},
     "output_type": "execute_result"
    }
   ],
   "source": [
    "yellow_taxi.isnull().sum()/yellow_taxi.shape[0] * 100"
   ]
  },
  {
   "cell_type": "markdown",
   "id": "beb954ec-19af-48e8-a75b-80db1ba04fd1",
   "metadata": {},
   "source": [
    "**There is a total of 7.18% of missing data in the yellow_taxi data. We can remove the columns with the missing data as they are not going to be useful for us from a modelling perspective**"
   ]
  },
  {
   "cell_type": "code",
   "execution_count": 9,
   "id": "c4515ac4-c00f-46ed-8be4-7b8a80a40dea",
   "metadata": {},
   "outputs": [
    {
     "data": {
      "text/html": [
       "<div>\n",
       "<style scoped>\n",
       "    .dataframe tbody tr th:only-of-type {\n",
       "        vertical-align: middle;\n",
       "    }\n",
       "\n",
       "    .dataframe tbody tr th {\n",
       "        vertical-align: top;\n",
       "    }\n",
       "\n",
       "    .dataframe thead th {\n",
       "        text-align: right;\n",
       "    }\n",
       "</style>\n",
       "<table border=\"1\" class=\"dataframe\">\n",
       "  <thead>\n",
       "    <tr style=\"text-align: right;\">\n",
       "      <th></th>\n",
       "      <th>tpep_pickup_datetime</th>\n",
       "      <th>tpep_dropoff_datetime</th>\n",
       "      <th>trip_distance</th>\n",
       "      <th>PULocationID</th>\n",
       "      <th>DOLocationID</th>\n",
       "      <th>fare_amount</th>\n",
       "      <th>extra</th>\n",
       "      <th>mta_tax</th>\n",
       "      <th>tip_amount</th>\n",
       "      <th>tolls_amount</th>\n",
       "      <th>improvement_surcharge</th>\n",
       "      <th>total_amount</th>\n",
       "      <th>congestion_surcharge</th>\n",
       "    </tr>\n",
       "  </thead>\n",
       "  <tbody>\n",
       "    <tr>\n",
       "      <th>0</th>\n",
       "      <td>2021-01-01 00:30:10</td>\n",
       "      <td>2021-01-01 00:36:12</td>\n",
       "      <td>2.10</td>\n",
       "      <td>142</td>\n",
       "      <td>43</td>\n",
       "      <td>8.0</td>\n",
       "      <td>3.0</td>\n",
       "      <td>0.5</td>\n",
       "      <td>0.00</td>\n",
       "      <td>0.0</td>\n",
       "      <td>0.3</td>\n",
       "      <td>11.80</td>\n",
       "      <td>2.5</td>\n",
       "    </tr>\n",
       "    <tr>\n",
       "      <th>1</th>\n",
       "      <td>2021-01-01 00:51:20</td>\n",
       "      <td>2021-01-01 00:52:19</td>\n",
       "      <td>0.20</td>\n",
       "      <td>238</td>\n",
       "      <td>151</td>\n",
       "      <td>3.0</td>\n",
       "      <td>0.5</td>\n",
       "      <td>0.5</td>\n",
       "      <td>0.00</td>\n",
       "      <td>0.0</td>\n",
       "      <td>0.3</td>\n",
       "      <td>4.30</td>\n",
       "      <td>0.0</td>\n",
       "    </tr>\n",
       "    <tr>\n",
       "      <th>2</th>\n",
       "      <td>2021-01-01 00:43:30</td>\n",
       "      <td>2021-01-01 01:11:06</td>\n",
       "      <td>14.70</td>\n",
       "      <td>132</td>\n",
       "      <td>165</td>\n",
       "      <td>42.0</td>\n",
       "      <td>0.5</td>\n",
       "      <td>0.5</td>\n",
       "      <td>8.65</td>\n",
       "      <td>0.0</td>\n",
       "      <td>0.3</td>\n",
       "      <td>51.95</td>\n",
       "      <td>0.0</td>\n",
       "    </tr>\n",
       "    <tr>\n",
       "      <th>3</th>\n",
       "      <td>2021-01-01 00:15:48</td>\n",
       "      <td>2021-01-01 00:31:01</td>\n",
       "      <td>10.60</td>\n",
       "      <td>138</td>\n",
       "      <td>132</td>\n",
       "      <td>29.0</td>\n",
       "      <td>0.5</td>\n",
       "      <td>0.5</td>\n",
       "      <td>6.05</td>\n",
       "      <td>0.0</td>\n",
       "      <td>0.3</td>\n",
       "      <td>36.35</td>\n",
       "      <td>0.0</td>\n",
       "    </tr>\n",
       "    <tr>\n",
       "      <th>4</th>\n",
       "      <td>2021-01-01 00:31:49</td>\n",
       "      <td>2021-01-01 00:48:21</td>\n",
       "      <td>4.94</td>\n",
       "      <td>68</td>\n",
       "      <td>33</td>\n",
       "      <td>16.5</td>\n",
       "      <td>0.5</td>\n",
       "      <td>0.5</td>\n",
       "      <td>4.06</td>\n",
       "      <td>0.0</td>\n",
       "      <td>0.3</td>\n",
       "      <td>24.36</td>\n",
       "      <td>2.5</td>\n",
       "    </tr>\n",
       "  </tbody>\n",
       "</table>\n",
       "</div>"
      ],
      "text/plain": [
       "  tpep_pickup_datetime tpep_dropoff_datetime  trip_distance  PULocationID  \\\n",
       "0  2021-01-01 00:30:10   2021-01-01 00:36:12           2.10           142   \n",
       "1  2021-01-01 00:51:20   2021-01-01 00:52:19           0.20           238   \n",
       "2  2021-01-01 00:43:30   2021-01-01 01:11:06          14.70           132   \n",
       "3  2021-01-01 00:15:48   2021-01-01 00:31:01          10.60           138   \n",
       "4  2021-01-01 00:31:49   2021-01-01 00:48:21           4.94            68   \n",
       "\n",
       "   DOLocationID  fare_amount  extra  mta_tax  tip_amount  tolls_amount  \\\n",
       "0            43          8.0    3.0      0.5        0.00           0.0   \n",
       "1           151          3.0    0.5      0.5        0.00           0.0   \n",
       "2           165         42.0    0.5      0.5        8.65           0.0   \n",
       "3           132         29.0    0.5      0.5        6.05           0.0   \n",
       "4            33         16.5    0.5      0.5        4.06           0.0   \n",
       "\n",
       "   improvement_surcharge  total_amount  congestion_surcharge  \n",
       "0                    0.3         11.80                   2.5  \n",
       "1                    0.3          4.30                   0.0  \n",
       "2                    0.3         51.95                   0.0  \n",
       "3                    0.3         36.35                   0.0  \n",
       "4                    0.3         24.36                   2.5  "
      ]
     },
     "execution_count": 9,
     "metadata": {},
     "output_type": "execute_result"
    }
   ],
   "source": [
    "yellow_taxi.dropna(axis=1,inplace=True)\n",
    "yellow_taxi.head()"
   ]
  },
  {
   "cell_type": "code",
   "execution_count": 10,
   "id": "559e2fea-9222-4326-a235-7584cbecdd11",
   "metadata": {},
   "outputs": [
    {
     "data": {
      "text/html": [
       "<div>\n",
       "<style scoped>\n",
       "    .dataframe tbody tr th:only-of-type {\n",
       "        vertical-align: middle;\n",
       "    }\n",
       "\n",
       "    .dataframe tbody tr th {\n",
       "        vertical-align: top;\n",
       "    }\n",
       "\n",
       "    .dataframe thead th {\n",
       "        text-align: right;\n",
       "    }\n",
       "</style>\n",
       "<table border=\"1\" class=\"dataframe\">\n",
       "  <thead>\n",
       "    <tr style=\"text-align: right;\">\n",
       "      <th></th>\n",
       "      <th>tpep_pickup_datetime</th>\n",
       "      <th>tpep_dropoff_datetime</th>\n",
       "      <th>trip_distance</th>\n",
       "      <th>PULocationID</th>\n",
       "      <th>DOLocationID</th>\n",
       "      <th>fare_amount</th>\n",
       "      <th>extra</th>\n",
       "      <th>mta_tax</th>\n",
       "      <th>tip_amount</th>\n",
       "      <th>tolls_amount</th>\n",
       "      <th>improvement_surcharge</th>\n",
       "      <th>total_amount</th>\n",
       "      <th>congestion_surcharge</th>\n",
       "      <th>trip_duration</th>\n",
       "    </tr>\n",
       "  </thead>\n",
       "  <tbody>\n",
       "    <tr>\n",
       "      <th>0</th>\n",
       "      <td>2021-01-01 00:30:10</td>\n",
       "      <td>2021-01-01 00:36:12</td>\n",
       "      <td>2.10</td>\n",
       "      <td>142</td>\n",
       "      <td>43</td>\n",
       "      <td>8.0</td>\n",
       "      <td>3.0</td>\n",
       "      <td>0.5</td>\n",
       "      <td>0.00</td>\n",
       "      <td>0.0</td>\n",
       "      <td>0.3</td>\n",
       "      <td>11.80</td>\n",
       "      <td>2.5</td>\n",
       "      <td>362</td>\n",
       "    </tr>\n",
       "    <tr>\n",
       "      <th>1</th>\n",
       "      <td>2021-01-01 00:51:20</td>\n",
       "      <td>2021-01-01 00:52:19</td>\n",
       "      <td>0.20</td>\n",
       "      <td>238</td>\n",
       "      <td>151</td>\n",
       "      <td>3.0</td>\n",
       "      <td>0.5</td>\n",
       "      <td>0.5</td>\n",
       "      <td>0.00</td>\n",
       "      <td>0.0</td>\n",
       "      <td>0.3</td>\n",
       "      <td>4.30</td>\n",
       "      <td>0.0</td>\n",
       "      <td>59</td>\n",
       "    </tr>\n",
       "    <tr>\n",
       "      <th>2</th>\n",
       "      <td>2021-01-01 00:43:30</td>\n",
       "      <td>2021-01-01 01:11:06</td>\n",
       "      <td>14.70</td>\n",
       "      <td>132</td>\n",
       "      <td>165</td>\n",
       "      <td>42.0</td>\n",
       "      <td>0.5</td>\n",
       "      <td>0.5</td>\n",
       "      <td>8.65</td>\n",
       "      <td>0.0</td>\n",
       "      <td>0.3</td>\n",
       "      <td>51.95</td>\n",
       "      <td>0.0</td>\n",
       "      <td>1656</td>\n",
       "    </tr>\n",
       "    <tr>\n",
       "      <th>3</th>\n",
       "      <td>2021-01-01 00:15:48</td>\n",
       "      <td>2021-01-01 00:31:01</td>\n",
       "      <td>10.60</td>\n",
       "      <td>138</td>\n",
       "      <td>132</td>\n",
       "      <td>29.0</td>\n",
       "      <td>0.5</td>\n",
       "      <td>0.5</td>\n",
       "      <td>6.05</td>\n",
       "      <td>0.0</td>\n",
       "      <td>0.3</td>\n",
       "      <td>36.35</td>\n",
       "      <td>0.0</td>\n",
       "      <td>913</td>\n",
       "    </tr>\n",
       "    <tr>\n",
       "      <th>4</th>\n",
       "      <td>2021-01-01 00:31:49</td>\n",
       "      <td>2021-01-01 00:48:21</td>\n",
       "      <td>4.94</td>\n",
       "      <td>68</td>\n",
       "      <td>33</td>\n",
       "      <td>16.5</td>\n",
       "      <td>0.5</td>\n",
       "      <td>0.5</td>\n",
       "      <td>4.06</td>\n",
       "      <td>0.0</td>\n",
       "      <td>0.3</td>\n",
       "      <td>24.36</td>\n",
       "      <td>2.5</td>\n",
       "      <td>992</td>\n",
       "    </tr>\n",
       "  </tbody>\n",
       "</table>\n",
       "</div>"
      ],
      "text/plain": [
       "  tpep_pickup_datetime tpep_dropoff_datetime  trip_distance  PULocationID  \\\n",
       "0  2021-01-01 00:30:10   2021-01-01 00:36:12           2.10           142   \n",
       "1  2021-01-01 00:51:20   2021-01-01 00:52:19           0.20           238   \n",
       "2  2021-01-01 00:43:30   2021-01-01 01:11:06          14.70           132   \n",
       "3  2021-01-01 00:15:48   2021-01-01 00:31:01          10.60           138   \n",
       "4  2021-01-01 00:31:49   2021-01-01 00:48:21           4.94            68   \n",
       "\n",
       "   DOLocationID  fare_amount  extra  mta_tax  tip_amount  tolls_amount  \\\n",
       "0            43          8.0    3.0      0.5        0.00           0.0   \n",
       "1           151          3.0    0.5      0.5        0.00           0.0   \n",
       "2           165         42.0    0.5      0.5        8.65           0.0   \n",
       "3           132         29.0    0.5      0.5        6.05           0.0   \n",
       "4            33         16.5    0.5      0.5        4.06           0.0   \n",
       "\n",
       "   improvement_surcharge  total_amount  congestion_surcharge  trip_duration  \n",
       "0                    0.3         11.80                   2.5            362  \n",
       "1                    0.3          4.30                   0.0             59  \n",
       "2                    0.3         51.95                   0.0           1656  \n",
       "3                    0.3         36.35                   0.0            913  \n",
       "4                    0.3         24.36                   2.5            992  "
      ]
     },
     "execution_count": 10,
     "metadata": {},
     "output_type": "execute_result"
    }
   ],
   "source": [
    "# Ensuring the consistency of the datetime format and adding a new column to calculate the total duration of the trip\n",
    "yellow_taxi['tpep_pickup_datetime'] =  pd.to_datetime(yellow_taxi['tpep_pickup_datetime'], format='%Y-%m-%d %H:%M:%S')\n",
    "yellow_taxi['tpep_dropoff_datetime'] =  pd.to_datetime(yellow_taxi['tpep_dropoff_datetime'], format='%Y-%m-%d %H:%M:%S')\n",
    "yellow_taxi['trip_duration'] = (yellow_taxi['tpep_dropoff_datetime'] - yellow_taxi['tpep_pickup_datetime']).dt.seconds\n",
    "yellow_taxi.head()"
   ]
  },
  {
   "cell_type": "code",
   "execution_count": 11,
   "id": "289d5036-ecce-4a0c-aca1-a7ab7f534e52",
   "metadata": {},
   "outputs": [
    {
     "data": {
      "text/plain": [
       "<AxesSubplot:>"
      ]
     },
     "execution_count": 11,
     "metadata": {},
     "output_type": "execute_result"
    },
    {
     "data": {
      "image/png": "[encoded data removed]",
      "text/plain": [
       "<Figure size 432x288 with 1 Axes>"
      ]
     },
     "metadata": {
      "needs_background": "light"
     },
     "output_type": "display_data"
    }
   ],
   "source": [
    "# Checking the completebess of the updated data\n",
    "sns.heatmap(yellow_taxi.isnull(),yticklabels=False,cbar=False,cmap='viridis')"
   ]
  },
  {
   "cell_type": "markdown",
   "id": "d96bb6c4-abbf-4fd3-a341-87311668ee9c",
   "metadata": {},
   "source": [
    "**The yellow taxi data is now complete. We can further check the data in the for hire taxi data.**"
   ]
  },
  {
   "cell_type": "code",
   "execution_count": 12,
   "id": "71df1e14-9022-486d-9120-5583147a44ed",
   "metadata": {},
   "outputs": [
    {
     "data": {
      "text/plain": [
       "dispatching_base_num        0.000000\n",
       "pickup_datetime             0.000000\n",
       "dropoff_datetime            0.000000\n",
       "PULocationID               82.893308\n",
       "DOLocationID               14.195514\n",
       "SR_Flag                   100.000000\n",
       "Affiliated_base_number      0.928941\n",
       "dtype: float64"
      ]
     },
     "execution_count": 12,
     "metadata": {},
     "output_type": "execute_result"
    }
   ],
   "source": [
    "for_hire_taxi.isnull().sum()/for_hire_taxi.shape[0] * 100"
   ]
  },
  {
   "cell_type": "markdown",
   "id": "e7022cef-29d6-4beb-b43f-7cbcecdeae87",
   "metadata": {},
   "source": [
    "**There is a total of 100% of missing data in the for hire taxi data in the SR_Flag column. We can drop the row SR_Flag from the dataset as it has no data. The remaining missing values can be dealt with differently based on the kind of data and the amount of missing values.**"
   ]
  },
  {
   "cell_type": "code",
   "execution_count": 13,
   "id": "bf49424d-fef3-4fd9-a365-1b441e15cbcb",
   "metadata": {},
   "outputs": [
    {
     "data": {
      "text/html": [
       "<div>\n",
       "<style scoped>\n",
       "    .dataframe tbody tr th:only-of-type {\n",
       "        vertical-align: middle;\n",
       "    }\n",
       "\n",
       "    .dataframe tbody tr th {\n",
       "        vertical-align: top;\n",
       "    }\n",
       "\n",
       "    .dataframe thead th {\n",
       "        text-align: right;\n",
       "    }\n",
       "</style>\n",
       "<table border=\"1\" class=\"dataframe\">\n",
       "  <thead>\n",
       "    <tr style=\"text-align: right;\">\n",
       "      <th></th>\n",
       "      <th>dispatching_base_num</th>\n",
       "      <th>pickup_datetime</th>\n",
       "      <th>dropoff_datetime</th>\n",
       "      <th>PULocationID</th>\n",
       "      <th>DOLocationID</th>\n",
       "      <th>Affiliated_base_number</th>\n",
       "    </tr>\n",
       "  </thead>\n",
       "  <tbody>\n",
       "    <tr>\n",
       "      <th>0</th>\n",
       "      <td>B00009</td>\n",
       "      <td>2021-01-01 00:27:00</td>\n",
       "      <td>2021-01-01 00:44:00</td>\n",
       "      <td>NaN</td>\n",
       "      <td>NaN</td>\n",
       "      <td>B00009</td>\n",
       "    </tr>\n",
       "    <tr>\n",
       "      <th>1</th>\n",
       "      <td>B00009</td>\n",
       "      <td>2021-01-01 00:50:00</td>\n",
       "      <td>2021-01-01 01:07:00</td>\n",
       "      <td>NaN</td>\n",
       "      <td>NaN</td>\n",
       "      <td>B00009</td>\n",
       "    </tr>\n",
       "    <tr>\n",
       "      <th>2</th>\n",
       "      <td>B00013</td>\n",
       "      <td>2021-01-01 00:01:00</td>\n",
       "      <td>2021-01-01 01:51:00</td>\n",
       "      <td>NaN</td>\n",
       "      <td>NaN</td>\n",
       "      <td>B00013</td>\n",
       "    </tr>\n",
       "    <tr>\n",
       "      <th>3</th>\n",
       "      <td>B00037</td>\n",
       "      <td>2021-01-01 00:13:09</td>\n",
       "      <td>2021-01-01 00:21:26</td>\n",
       "      <td>NaN</td>\n",
       "      <td>72.0</td>\n",
       "      <td>B00037</td>\n",
       "    </tr>\n",
       "    <tr>\n",
       "      <th>4</th>\n",
       "      <td>B00037</td>\n",
       "      <td>2021-01-01 00:38:31</td>\n",
       "      <td>2021-01-01 00:53:44</td>\n",
       "      <td>NaN</td>\n",
       "      <td>61.0</td>\n",
       "      <td>B00037</td>\n",
       "    </tr>\n",
       "  </tbody>\n",
       "</table>\n",
       "</div>"
      ],
      "text/plain": [
       "  dispatching_base_num      pickup_datetime     dropoff_datetime  \\\n",
       "0               B00009  2021-01-01 00:27:00  2021-01-01 00:44:00   \n",
       "1               B00009  2021-01-01 00:50:00  2021-01-01 01:07:00   \n",
       "2               B00013  2021-01-01 00:01:00  2021-01-01 01:51:00   \n",
       "3               B00037  2021-01-01 00:13:09  2021-01-01 00:21:26   \n",
       "4               B00037  2021-01-01 00:38:31  2021-01-01 00:53:44   \n",
       "\n",
       "   PULocationID  DOLocationID Affiliated_base_number  \n",
       "0           NaN           NaN                 B00009  \n",
       "1           NaN           NaN                 B00009  \n",
       "2           NaN           NaN                 B00013  \n",
       "3           NaN          72.0                 B00037  \n",
       "4           NaN          61.0                 B00037  "
      ]
     },
     "execution_count": 13,
     "metadata": {},
     "output_type": "execute_result"
    }
   ],
   "source": [
    "# Dropping the SR_Flag Column\n",
    "for_hire_taxi.drop('SR_Flag',axis=1,inplace = True)\n",
    "for_hire_taxi.head()"
   ]
  },
  {
   "cell_type": "code",
   "execution_count": 14,
   "id": "0c54aef8-f5af-4610-903f-1f0e4f055ef8",
   "metadata": {},
   "outputs": [
    {
     "data": {
      "text/html": [
       "<div>\n",
       "<style scoped>\n",
       "    .dataframe tbody tr th:only-of-type {\n",
       "        vertical-align: middle;\n",
       "    }\n",
       "\n",
       "    .dataframe tbody tr th {\n",
       "        vertical-align: top;\n",
       "    }\n",
       "\n",
       "    .dataframe thead th {\n",
       "        text-align: right;\n",
       "    }\n",
       "</style>\n",
       "<table border=\"1\" class=\"dataframe\">\n",
       "  <thead>\n",
       "    <tr style=\"text-align: right;\">\n",
       "      <th></th>\n",
       "      <th>dispatching_base_num</th>\n",
       "      <th>pickup_datetime</th>\n",
       "      <th>dropoff_datetime</th>\n",
       "      <th>PULocationID</th>\n",
       "      <th>DOLocationID</th>\n",
       "      <th>Affiliated_base_number</th>\n",
       "    </tr>\n",
       "  </thead>\n",
       "  <tbody>\n",
       "    <tr>\n",
       "      <th>0</th>\n",
       "      <td>B00009</td>\n",
       "      <td>2021-01-01 00:27:00</td>\n",
       "      <td>2021-01-01 00:44:00</td>\n",
       "      <td>-1.0</td>\n",
       "      <td>-1.0</td>\n",
       "      <td>B00009</td>\n",
       "    </tr>\n",
       "    <tr>\n",
       "      <th>1</th>\n",
       "      <td>B00009</td>\n",
       "      <td>2021-01-01 00:50:00</td>\n",
       "      <td>2021-01-01 01:07:00</td>\n",
       "      <td>-1.0</td>\n",
       "      <td>-1.0</td>\n",
       "      <td>B00009</td>\n",
       "    </tr>\n",
       "    <tr>\n",
       "      <th>2</th>\n",
       "      <td>B00013</td>\n",
       "      <td>2021-01-01 00:01:00</td>\n",
       "      <td>2021-01-01 01:51:00</td>\n",
       "      <td>-1.0</td>\n",
       "      <td>-1.0</td>\n",
       "      <td>B00013</td>\n",
       "    </tr>\n",
       "    <tr>\n",
       "      <th>3</th>\n",
       "      <td>B00037</td>\n",
       "      <td>2021-01-01 00:13:09</td>\n",
       "      <td>2021-01-01 00:21:26</td>\n",
       "      <td>-1.0</td>\n",
       "      <td>72.0</td>\n",
       "      <td>B00037</td>\n",
       "    </tr>\n",
       "    <tr>\n",
       "      <th>4</th>\n",
       "      <td>B00037</td>\n",
       "      <td>2021-01-01 00:38:31</td>\n",
       "      <td>2021-01-01 00:53:44</td>\n",
       "      <td>-1.0</td>\n",
       "      <td>61.0</td>\n",
       "      <td>B00037</td>\n",
       "    </tr>\n",
       "  </tbody>\n",
       "</table>\n",
       "</div>"
      ],
      "text/plain": [
       "  dispatching_base_num      pickup_datetime     dropoff_datetime  \\\n",
       "0               B00009  2021-01-01 00:27:00  2021-01-01 00:44:00   \n",
       "1               B00009  2021-01-01 00:50:00  2021-01-01 01:07:00   \n",
       "2               B00013  2021-01-01 00:01:00  2021-01-01 01:51:00   \n",
       "3               B00037  2021-01-01 00:13:09  2021-01-01 00:21:26   \n",
       "4               B00037  2021-01-01 00:38:31  2021-01-01 00:53:44   \n",
       "\n",
       "   PULocationID  DOLocationID Affiliated_base_number  \n",
       "0          -1.0          -1.0                 B00009  \n",
       "1          -1.0          -1.0                 B00009  \n",
       "2          -1.0          -1.0                 B00013  \n",
       "3          -1.0          72.0                 B00037  \n",
       "4          -1.0          61.0                 B00037  "
      ]
     },
     "execution_count": 14,
     "metadata": {},
     "output_type": "execute_result"
    }
   ],
   "source": [
    "# Filling the missing values in the PULocationID and DOLocationID columns\n",
    "for_hire_taxi['PULocationID'].fillna(-1, inplace = True)\n",
    "for_hire_taxi['DOLocationID'].fillna(-1, inplace = True)\n",
    "for_hire_taxi.head()"
   ]
  },
  {
   "cell_type": "markdown",
   "id": "537e86af-5f13-4e72-99d1-2af114df20d3",
   "metadata": {},
   "source": [
    "The missing values in the 'Affiliated_base_number' column can be ignored as this column will not be helpful with the modeling process. We can proceed to drop the column to secure the completeness of the data"
   ]
  },
  {
   "cell_type": "code",
   "execution_count": 15,
   "id": "be79899c-a3d4-477d-a297-48ee7297069c",
   "metadata": {},
   "outputs": [
    {
     "data": {
      "text/html": [
       "<div>\n",
       "<style scoped>\n",
       "    .dataframe tbody tr th:only-of-type {\n",
       "        vertical-align: middle;\n",
       "    }\n",
       "\n",
       "    .dataframe tbody tr th {\n",
       "        vertical-align: top;\n",
       "    }\n",
       "\n",
       "    .dataframe thead th {\n",
       "        text-align: right;\n",
       "    }\n",
       "</style>\n",
       "<table border=\"1\" class=\"dataframe\">\n",
       "  <thead>\n",
       "    <tr style=\"text-align: right;\">\n",
       "      <th></th>\n",
       "      <th>dispatching_base_num</th>\n",
       "      <th>pickup_datetime</th>\n",
       "      <th>dropoff_datetime</th>\n",
       "      <th>PULocationID</th>\n",
       "      <th>DOLocationID</th>\n",
       "    </tr>\n",
       "  </thead>\n",
       "  <tbody>\n",
       "    <tr>\n",
       "      <th>0</th>\n",
       "      <td>B00009</td>\n",
       "      <td>2021-01-01 00:27:00</td>\n",
       "      <td>2021-01-01 00:44:00</td>\n",
       "      <td>-1.0</td>\n",
       "      <td>-1.0</td>\n",
       "    </tr>\n",
       "    <tr>\n",
       "      <th>1</th>\n",
       "      <td>B00009</td>\n",
       "      <td>2021-01-01 00:50:00</td>\n",
       "      <td>2021-01-01 01:07:00</td>\n",
       "      <td>-1.0</td>\n",
       "      <td>-1.0</td>\n",
       "    </tr>\n",
       "    <tr>\n",
       "      <th>2</th>\n",
       "      <td>B00013</td>\n",
       "      <td>2021-01-01 00:01:00</td>\n",
       "      <td>2021-01-01 01:51:00</td>\n",
       "      <td>-1.0</td>\n",
       "      <td>-1.0</td>\n",
       "    </tr>\n",
       "    <tr>\n",
       "      <th>3</th>\n",
       "      <td>B00037</td>\n",
       "      <td>2021-01-01 00:13:09</td>\n",
       "      <td>2021-01-01 00:21:26</td>\n",
       "      <td>-1.0</td>\n",
       "      <td>72.0</td>\n",
       "    </tr>\n",
       "    <tr>\n",
       "      <th>4</th>\n",
       "      <td>B00037</td>\n",
       "      <td>2021-01-01 00:38:31</td>\n",
       "      <td>2021-01-01 00:53:44</td>\n",
       "      <td>-1.0</td>\n",
       "      <td>61.0</td>\n",
       "    </tr>\n",
       "  </tbody>\n",
       "</table>\n",
       "</div>"
      ],
      "text/plain": [
       "  dispatching_base_num      pickup_datetime     dropoff_datetime  \\\n",
       "0               B00009  2021-01-01 00:27:00  2021-01-01 00:44:00   \n",
       "1               B00009  2021-01-01 00:50:00  2021-01-01 01:07:00   \n",
       "2               B00013  2021-01-01 00:01:00  2021-01-01 01:51:00   \n",
       "3               B00037  2021-01-01 00:13:09  2021-01-01 00:21:26   \n",
       "4               B00037  2021-01-01 00:38:31  2021-01-01 00:53:44   \n",
       "\n",
       "   PULocationID  DOLocationID  \n",
       "0          -1.0          -1.0  \n",
       "1          -1.0          -1.0  \n",
       "2          -1.0          -1.0  \n",
       "3          -1.0          72.0  \n",
       "4          -1.0          61.0  "
      ]
     },
     "execution_count": 15,
     "metadata": {},
     "output_type": "execute_result"
    }
   ],
   "source": [
    "for_hire_taxi.dropna(axis=1,inplace=True)\n",
    "for_hire_taxi.head()"
   ]
  },
  {
   "cell_type": "code",
   "execution_count": 16,
   "id": "1c29ff2b-7341-4825-9fb5-407c0b4aacec",
   "metadata": {},
   "outputs": [
    {
     "data": {
      "text/html": [
       "<div>\n",
       "<style scoped>\n",
       "    .dataframe tbody tr th:only-of-type {\n",
       "        vertical-align: middle;\n",
       "    }\n",
       "\n",
       "    .dataframe tbody tr th {\n",
       "        vertical-align: top;\n",
       "    }\n",
       "\n",
       "    .dataframe thead th {\n",
       "        text-align: right;\n",
       "    }\n",
       "</style>\n",
       "<table border=\"1\" class=\"dataframe\">\n",
       "  <thead>\n",
       "    <tr style=\"text-align: right;\">\n",
       "      <th></th>\n",
       "      <th>dispatching_base_num</th>\n",
       "      <th>pickup_datetime</th>\n",
       "      <th>dropoff_datetime</th>\n",
       "      <th>PULocationID</th>\n",
       "      <th>DOLocationID</th>\n",
       "      <th>trip_duration</th>\n",
       "    </tr>\n",
       "  </thead>\n",
       "  <tbody>\n",
       "    <tr>\n",
       "      <th>0</th>\n",
       "      <td>B00009</td>\n",
       "      <td>2021-01-01 00:27:00</td>\n",
       "      <td>2021-01-01 00:44:00</td>\n",
       "      <td>-1.0</td>\n",
       "      <td>-1.0</td>\n",
       "      <td>1020</td>\n",
       "    </tr>\n",
       "    <tr>\n",
       "      <th>1</th>\n",
       "      <td>B00009</td>\n",
       "      <td>2021-01-01 00:50:00</td>\n",
       "      <td>2021-01-01 01:07:00</td>\n",
       "      <td>-1.0</td>\n",
       "      <td>-1.0</td>\n",
       "      <td>1020</td>\n",
       "    </tr>\n",
       "    <tr>\n",
       "      <th>2</th>\n",
       "      <td>B00013</td>\n",
       "      <td>2021-01-01 00:01:00</td>\n",
       "      <td>2021-01-01 01:51:00</td>\n",
       "      <td>-1.0</td>\n",
       "      <td>-1.0</td>\n",
       "      <td>6600</td>\n",
       "    </tr>\n",
       "    <tr>\n",
       "      <th>3</th>\n",
       "      <td>B00037</td>\n",
       "      <td>2021-01-01 00:13:09</td>\n",
       "      <td>2021-01-01 00:21:26</td>\n",
       "      <td>-1.0</td>\n",
       "      <td>72.0</td>\n",
       "      <td>497</td>\n",
       "    </tr>\n",
       "    <tr>\n",
       "      <th>4</th>\n",
       "      <td>B00037</td>\n",
       "      <td>2021-01-01 00:38:31</td>\n",
       "      <td>2021-01-01 00:53:44</td>\n",
       "      <td>-1.0</td>\n",
       "      <td>61.0</td>\n",
       "      <td>913</td>\n",
       "    </tr>\n",
       "  </tbody>\n",
       "</table>\n",
       "</div>"
      ],
      "text/plain": [
       "  dispatching_base_num     pickup_datetime    dropoff_datetime  PULocationID  \\\n",
       "0               B00009 2021-01-01 00:27:00 2021-01-01 00:44:00          -1.0   \n",
       "1               B00009 2021-01-01 00:50:00 2021-01-01 01:07:00          -1.0   \n",
       "2               B00013 2021-01-01 00:01:00 2021-01-01 01:51:00          -1.0   \n",
       "3               B00037 2021-01-01 00:13:09 2021-01-01 00:21:26          -1.0   \n",
       "4               B00037 2021-01-01 00:38:31 2021-01-01 00:53:44          -1.0   \n",
       "\n",
       "   DOLocationID  trip_duration  \n",
       "0          -1.0           1020  \n",
       "1          -1.0           1020  \n",
       "2          -1.0           6600  \n",
       "3          72.0            497  \n",
       "4          61.0            913  "
      ]
     },
     "execution_count": 16,
     "metadata": {},
     "output_type": "execute_result"
    }
   ],
   "source": [
    "# Ensuring the consistency of the datetime format and adding a new column to calculate the total duration of the trip\n",
    "for_hire_taxi['pickup_datetime'] =  pd.to_datetime(for_hire_taxi['pickup_datetime'], format='%Y-%m-%d %H:%M:%S')\n",
    "for_hire_taxi['dropoff_datetime'] =  pd.to_datetime(for_hire_taxi['dropoff_datetime'], format='%Y-%m-%d %H:%M:%S')\n",
    "for_hire_taxi['trip_duration'] = (for_hire_taxi['dropoff_datetime'] -for_hire_taxi['pickup_datetime']).dt.seconds\n",
    "for_hire_taxi.head()"
   ]
  },
  {
   "cell_type": "code",
   "execution_count": 17,
   "id": "c1eebf56-50db-4c0b-944a-5ab98981ac06",
   "metadata": {},
   "outputs": [
    {
     "data": {
      "text/plain": [
       "<AxesSubplot:>"
      ]
     },
     "execution_count": 17,
     "metadata": {},
     "output_type": "execute_result"
    },
    {
     "data": {
      "image/png": "[encoded data removed]",
      "text/plain": [
       "<Figure size 432x288 with 1 Axes>"
      ]
     },
     "metadata": {
      "needs_background": "light"
     },
     "output_type": "display_data"
    }
   ],
   "source": [
    "# Checking the completeness of the data\n",
    "sns.heatmap(for_hire_taxi.isnull(),yticklabels=False,cbar=False,cmap='viridis')"
   ]
  },
  {
   "cell_type": "markdown",
   "id": "9d3578b2-3fa7-4b2b-a0c7-353e529d9746",
   "metadata": {},
   "source": [
    "**The data is now complete. Let us visualize the data to understand it better**"
   ]
  },
  {
   "cell_type": "code",
   "execution_count": 18,
   "id": "475f87bc-68f7-43f6-9ffc-f8d40d48b64c",
   "metadata": {},
   "outputs": [
    {
     "data": {
      "text/plain": [
       "<AxesSubplot:>"
      ]
     },
     "execution_count": 18,
     "metadata": {},
     "output_type": "execute_result"
    },
    {
     "data": {
      "image/png": "[encoded data removed]",
      "text/plain": [
       "<Figure size 720x720 with 2 Axes>"
      ]
     },
     "metadata": {
      "needs_background": "light"
     },
     "output_type": "display_data"
    }
   ],
   "source": [
    "plt.figure(figsize=(10,10))\n",
    "sns.heatmap(yellow_taxi.corr(),annot=True)"
   ]
  },
  {
   "cell_type": "markdown",
   "id": "2f8df3c7-d9f6-4a3b-8476-471a2d7c2205",
   "metadata": {},
   "source": [
    "We can infer that there is not much correlation between the trip duration and the total amount"
   ]
  },
  {
   "cell_type": "code",
   "execution_count": 19,
   "id": "ce173404-0e2e-41cb-a70d-8e89b474df67",
   "metadata": {},
   "outputs": [
    {
     "data": {
      "image/png": "[encoded data removed]",
      "text/plain": [
       "<Figure size 432x288 with 1 Axes>"
      ]
     },
     "metadata": {
      "needs_background": "light"
     },
     "output_type": "display_data"
    }
   ],
   "source": [
    "#Plotting the total trip duration.\n",
    "#Data is grouped based on date\n",
    "yellow_date_sum = yellow_taxi.groupby(yellow_taxi['tpep_pickup_datetime'].dt.date).sum()[2:-1]\n",
    "for_hire_date_sum = for_hire_taxi.groupby(for_hire_taxi['pickup_datetime'].dt.date).sum()\n",
    "\n",
    "plt.plot(yellow_date_sum.index,yellow_date_sum['trip_duration'])\n",
    "plt.plot(for_hire_date_sum.index,for_hire_date_sum['trip_duration'])\n",
    "plt.legend(['For-Hire','Yellow'])\n",
    "plt.title('Duration Analysis(secs)')\n",
    "plt.xlabel('Date')\n",
    "plt.ylabel('Total Trip Duration')\n",
    "plt.gcf().autofmt_xdate()"
   ]
  },
  {
   "cell_type": "markdown",
   "id": "987c7f30-f25e-4a27-b918-d7fdefe65817",
   "metadata": {},
   "source": [
    "It can be observed from the below graph that for yellow taxi 14 and 15 are the busiest hours.The busiest hours for for_hire taxi are 9 and 10."
   ]
  },
  {
   "cell_type": "code",
   "execution_count": 20,
   "id": "d5e97855-c245-4631-a5a3-081669ee36bf",
   "metadata": {},
   "outputs": [
    {
     "data": {
      "image/png": "[encoded data removed]",
      "text/plain": [
       "<Figure size 1440x360 with 2 Axes>"
      ]
     },
     "metadata": {
      "needs_background": "light"
     },
     "output_type": "display_data"
    }
   ],
   "source": [
    "#Chart to visualize the busy hours of both yellow taxi and for_hire taxi\n",
    "\n",
    "#Extracting the hours from the pickup datetime\n",
    "yellow_taxi['hour'] = yellow_taxi['tpep_pickup_datetime'].dt.hour\n",
    "for_hire_taxi['hour'] = for_hire_taxi['pickup_datetime'].dt.hour\n",
    "\n",
    "#Visualizing the data\n",
    "figure,(ax1,ax2)=plt.subplots(ncols=2,figsize=(20,5))\n",
    "ax1.set_title('Busy hours of Yellow Taxi')\n",
    "ax=sns.countplot(x=\"hour\",data=yellow_taxi,ax=ax1)\n",
    "\n",
    "ax2.set_title('Busy hours of For_Hire Taxi')\n",
    "ax=sns.countplot(x=\"hour\",data=for_hire_taxi,ax=ax2)"
   ]
  },
  {
   "cell_type": "code",
   "execution_count": 21,
   "id": "baab0bd3-0915-43f9-b0f3-9980c7bb690f",
   "metadata": {},
   "outputs": [
    {
     "data": {
      "text/plain": [
       "Text(0, 0.5, 'Total Trip Duration')"
      ]
     },
     "execution_count": 21,
     "metadata": {},
     "output_type": "execute_result"
    },
    {
     "data": {
      "image/png": "[encoded data removed]",
      "text/plain": [
       "<Figure size 432x288 with 1 Axes>"
      ]
     },
     "metadata": {
      "needs_background": "light"
     },
     "output_type": "display_data"
    }
   ],
   "source": [
    "# Plotting on the basis of pickup location of both yellow taxi and for_hire taxi.\n",
    "# The peak indicates the location to which most people book taxis.\n",
    "\n",
    "yellow_Pickup_sum = yellow_taxi[yellow_taxi['PULocationID'].notna()].groupby(yellow_taxi['PULocationID']).sum()\n",
    "forhire_Pickup_sum = for_hire_taxi[for_hire_taxi['PULocationID'].notna()].groupby(for_hire_taxi['PULocationID']).sum()\n",
    "\n",
    "plt.plot(yellow_Pickup_sum.index[:-1],yellow_Pickup_sum[:-1]['trip_duration'])\n",
    "plt.plot(forhire_Pickup_sum.index[1:],forhire_Pickup_sum[1:]['trip_duration'])\n",
    "plt.legend(['Yellow','For-Hire'])\n",
    "plt.title('Total Trip Duration with respect to PickUp Location')\n",
    "plt.xlabel('Pickup')\n",
    "plt.ylabel('Total Trip Duration')"
   ]
  },
  {
   "cell_type": "markdown",
   "id": "0f461a33-c237-43e4-ba4e-df6862c0a27b",
   "metadata": {},
   "source": [
    "**Now that we have understood some of the features in the data, we can attempt to build a machine learning model that uses the yellow taxi data to train and predicts the time for the for hire taxis. We will primarily be considering the Pick up and Drop off location IDs**"
   ]
  },
  {
   "cell_type": "code",
   "execution_count": 22,
   "id": "b00e28f4-2c36-4820-9d32-10b0607bf923",
   "metadata": {},
   "outputs": [],
   "source": [
    "x_train = yellow_taxi[['PULocationID','DOLocationID']]\n",
    "y_train = yellow_taxi[['trip_duration']]\n",
    "\n",
    "y_model = yellow_taxi[['total_amount']]\n",
    "x_test = for_hire_taxi[['PULocationID','DOLocationID']]\n",
    "y_test = for_hire_taxi[['trip_duration']]"
   ]
  },
  {
   "cell_type": "code",
   "execution_count": 23,
   "id": "f3dea0fa-b60f-4931-99c4-7d99e7e1b4fe",
   "metadata": {},
   "outputs": [],
   "source": [
    "from sklearn.linear_model import LinearRegression\n",
    "linreg = LinearRegression().fit(x_train, y_train)"
   ]
  },
  {
   "cell_type": "markdown",
   "id": "d78b550c-9ddd-4592-ab90-901e6515d69b",
   "metadata": {},
   "source": [
    "Let us now see the residual errors in the training dataset"
   ]
  },
  {
   "cell_type": "code",
   "execution_count": 24,
   "id": "ee2eebd4-d08b-4dad-b8a9-b64495b1021e",
   "metadata": {},
   "outputs": [
    {
     "data": {
      "text/plain": [
       "<matplotlib.collections.PathCollection at 0x7fb98e8be820>"
      ]
     },
     "execution_count": 24,
     "metadata": {},
     "output_type": "execute_result"
    },
    {
     "data": {
      "image/png": "[encoded data removed]",
      "text/plain": [
       "<Figure size 432x288 with 1 Axes>"
      ]
     },
     "metadata": {
      "needs_background": "light"
     },
     "output_type": "display_data"
    }
   ],
   "source": [
    "plt.scatter(linreg.predict(x_train), linreg.predict(x_train) - y_train, color = \"red\", s = 10, label = 'Train data')"
   ]
  },
  {
   "cell_type": "markdown",
   "id": "0373b6e5-f222-4e22-a414-6158fecbc793",
   "metadata": {},
   "source": [
    "Let us now see the residual errors in the test dataset"
   ]
  },
  {
   "cell_type": "code",
   "execution_count": 25,
   "id": "f30f0baf-7c59-4fdd-a245-86ea736c4ce3",
   "metadata": {},
   "outputs": [
    {
     "data": {
      "text/plain": [
       "<matplotlib.collections.PathCollection at 0x7fb96aa8b970>"
      ]
     },
     "execution_count": 25,
     "metadata": {},
     "output_type": "execute_result"
    },
    {
     "data": {
      "image/png": "[encoded data removed]",
      "text/plain": [
       "<Figure size 432x288 with 1 Axes>"
      ]
     },
     "metadata": {
      "needs_background": "light"
     },
     "output_type": "display_data"
    }
   ],
   "source": [
    "plt.scatter(linreg.predict(x_test), linreg.predict(x_test) - y_test, color = \"green\", s = 10, label = 'Test data')"
   ]
  },
  {
   "cell_type": "markdown",
   "id": "a6323210-c9c1-441b-a06d-e219f41a727e",
   "metadata": {},
   "source": [
    "Let us check out the attributes of the linear regression model that is used"
   ]
  },
  {
   "cell_type": "code",
   "execution_count": 26,
   "id": "ecb6fca7-a4a9-4471-a071-9ca36e2b7631",
   "metadata": {},
   "outputs": [
    {
     "name": "stdout",
     "output_type": "stream",
     "text": [
      "0.007449611454447336\n",
      "coefficient is: [[ 7.40186053 -4.1974892 ]]\n",
      "Intercept is:[649.54444599]\n",
      "Variance score: -0.2786710996730464\n"
     ]
    }
   ],
   "source": [
    "print(linreg.score(x_train, y_train))\n",
    "print(\"coefficient is: \" + str(linreg.coef_))\n",
    "print(\"Intercept is:\"+ str(linreg.intercept_))\n",
    "print('Variance score: {}'.format(linreg.score(x_test, y_test)))"
   ]
  },
  {
   "cell_type": "code",
   "execution_count": 27,
   "id": "2bd968b6-787a-45e0-b69a-357113b9ea11",
   "metadata": {},
   "outputs": [
    {
     "data": {
      "text/plain": [
       "-0.2786710996730464"
      ]
     },
     "execution_count": 27,
     "metadata": {},
     "output_type": "execute_result"
    }
   ],
   "source": [
    "y_pred = linreg.predict(x_test)\n",
    "linreg.score(x_test,y_test)"
   ]
  },
  {
   "cell_type": "code",
   "execution_count": 28,
   "id": "0677e8bf-f173-4ba2-9641-02615cc81339",
   "metadata": {},
   "outputs": [
    {
     "data": {
      "text/plain": [
       "trip_duration   -789.568854\n",
       "dtype: float64"
      ]
     },
     "execution_count": 28,
     "metadata": {},
     "output_type": "execute_result"
    }
   ],
   "source": [
    "np.mean(y_pred-y_test,axis=0)"
   ]
  },
  {
   "cell_type": "markdown",
   "id": "1287b3f7-fee0-40bb-a9ca-b24548ef87dd",
   "metadata": {},
   "source": [
    "# Evaluation and Optimization\n",
    "- The mean difference between the predicted and actual value is **-789.56**. \n",
    "- We can observe that the model trained by yellow taxi data predicts approximately **13 minutes** lesser total trip duration. \n",
    "- The intercept of our linear regression model is 649.54 and the co-efficients are **7.4018 and -4.1974**. \n",
    "- The way that a yellow cab charges its customers is different from the way that for-hire cabs are charged. \n",
    "- In for-hire taxis, a customer is charged for the entire duration of the cab ride.\n",
    "- Yellow taxis charge their customers only when the taxi is stopped or is in slow traffic. \n",
    "- Apart from the pricing scheme, there could be several factors that can be taken into consideration for this such as behavioral and situation based effects.\n",
    "- Further, we can extend other features to understand pricing contraints to understand how the model would be influenced."
   ]
  }
 ],
 "metadata": {
  "kernelspec": {
   "display_name": "Python 3 (ipykernel)",
   "language": "python",
   "name": "python3"
  },
  "language_info": {
   "codemirror_mode": {
    "name": "ipython",
    "version": 3
   },
   "file_extension": ".py",
   "mimetype": "text/x-python",
   "name": "python",
   "nbconvert_exporter": "python",
   "pygments_lexer": "ipython3",
   "version": "3.8.8"
  }
 },
 "nbformat": 4,
 "nbformat_minor": 5
}
